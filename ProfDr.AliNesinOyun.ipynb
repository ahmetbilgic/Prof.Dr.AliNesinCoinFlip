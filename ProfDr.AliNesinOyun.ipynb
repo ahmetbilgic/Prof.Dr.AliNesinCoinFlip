{
 "cells": [
  {
   "cell_type": "code",
   "execution_count": null,
   "metadata": {},
   "outputs": [],
   "source": [
    "import random\n",
    "numberOfPlays=0\n",
    "totalscore=0\n",
    "n=int(input(\"How many Times? :\"))\n",
    "def coinFlip():\n",
    "    score=0\n",
    "    while True:\n",
    "        headsortails=random.randint(0,1)\n",
    "        if headsortails==0:\n",
    "            score+=1\n",
    "            print(\"Heads\")\n",
    "            print(score)\n",
    "            return score\n",
    "            break\n",
    "        else:\n",
    "            print(\"Tails\")\n",
    "            score+=1\n",
    "            print(score)\n",
    "\n",
    "while numberOfPlays<n:\n",
    "    totalscore+=coinFlip()\n",
    "    numberOfPlays+=1\n",
    "print(\"Average :{0:.2f}\".format(totalscore/numberOfPlays))\n",
    "print(\"Total Score :{}\".format(totalscore))\n",
    "print(numberOfPlays)"
   ]
  },
  {
   "cell_type": "code",
   "execution_count": null,
   "metadata": {},
   "outputs": [],
   "source": []
  },
  {
   "cell_type": "code",
   "execution_count": null,
   "metadata": {},
   "outputs": [],
   "source": []
  }
 ],
 "metadata": {
  "kernelspec": {
   "display_name": "Python 3",
   "language": "python",
   "name": "python3"
  },
  "language_info": {
   "codemirror_mode": {
    "name": "ipython",
    "version": 3
   },
   "file_extension": ".py",
   "mimetype": "text/x-python",
   "name": "python",
   "nbconvert_exporter": "python",
   "pygments_lexer": "ipython3",
   "version": "3.7.6"
  }
 },
 "nbformat": 4,
 "nbformat_minor": 4
}
